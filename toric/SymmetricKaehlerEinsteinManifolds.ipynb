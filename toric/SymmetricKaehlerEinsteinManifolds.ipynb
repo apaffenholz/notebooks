{
 "cells": [
  {
   "cell_type": "code",
   "execution_count": 1,
   "id": "9c8c7a33-f3c5-4e56-beca-7ba5a1c827a0",
   "metadata": {},
   "outputs": [
    {
     "data": {
      "text/html": [
       "<details><summary><pre style=\"display:inline\"><small>Click here for additional output</small></pre></summary>\n",
       "<pre>\n",
       "polymake: used package PolyDB\n",
       "   Access to the polyDB database for combinatorial objects.\n",
       "   (c) 2013-2023 Andreas Paffenholz\n",
       "   http://www.mathematik.tu-darmstadt.de/~paffenholz\n",
       "\n",
       "</pre>\n",
       "</details>\n"
      ]
     },
     "metadata": {},
     "output_type": "display_data"
    }
   ],
   "source": [
    "$polydb = polyDB();\n",
    "$collection = $polydb->get_collection(\"Polytopes.Lattice.SmoothReflexive\");"
   ]
  },
  {
   "cell_type": "markdown",
   "id": "3d70c97d-1860-4144-be92-09faed25a09a",
   "metadata": {},
   "source": [
    "## Symmetric Kähler-Einstein Manifolds"
   ]
  },
  {
   "cell_type": "markdown",
   "id": "1f6d5a97-319a-4b55-85ae-3f0a5daad375",
   "metadata": {},
   "source": [
    "For background on these examples see \n",
    "\n",
    "Nill, B., Paffenholz, A. Examples of Kähler–Einstein toric Fano manifolds associated to non-symmetric reflexive polytopes. Beitr Algebra Geom 52, 297–304 (2011). [[doi]](https://doi.org/10.1007/s13366-011-0041-y)"
   ]
  },
  {
   "cell_type": "markdown",
   "id": "00f0531d-6c32-4dde-9ab9-1632eac4d0f6",
   "metadata": {},
   "source": [
    "For the examples we need to check that the centroid (or barycenter) is the origin, but the origin is not the only lattice point fixed by all lattice automorphisms of the polytope. The latter can be checked with the following script."
   ]
  },
  {
   "cell_type": "code",
   "execution_count": 2,
   "id": "79fb6d65-8dbd-4de6-927a-391c911d4ac0",
   "metadata": {},
   "outputs": [],
   "source": [
    "sub bs_symmetric {\n",
    "    my $p = shift;\n",
    "    my $g = lattice_automorphisms_smooth_polytope($p);\n",
    "\n",
    "    my $b = basis_rows($p->VERTICES);\n",
    "    my $m = $p->VERTICES->minor($b,All);\n",
    "    my $inv_m = inv($m);\n",
    "\n",
    "    my $orth = new Matrix<Rational>;\n",
    "    foreach my $e (@$g) {\n",
    "        my $c = new Array<Int>($b->size());\n",
    "        my $i = 0;\n",
    "        foreach my $be (@$b) {\n",
    "            $c->[$i++] = $e->[$be];\n",
    "        }\n",
    "        my $n = $p->VERTICES->minor($c,All);\n",
    "        my $t = $inv_m*$n;\n",
    "\n",
    "        my $tred = ($t-unit_matrix($t->rows()))->minor(~[0],~[0]);\n",
    "        my $ns = null_space(transpose($tred));\n",
    "\n",
    "        $orth /= null_space($ns);\n",
    "\n",
    "        if ( null_space($orth)->rows() == 0) {\n",
    "            return true;\n",
    "        }\n",
    "    }\n",
    "    return false;\n",
    "}"
   ]
  },
  {
   "cell_type": "markdown",
   "id": "7c1d743a-4e4c-4bd6-b48d-84074b857b0f",
   "metadata": {},
   "source": [
    "### The unique example in dimension 7"
   ]
  },
  {
   "cell_type": "code",
   "execution_count": 3,
   "id": "7d7d1692-8cb8-4f34-9a0d-19d2f269de02",
   "metadata": {},
   "outputs": [],
   "source": [
    "$p7 = $collection->find_one({\"_id\"=>\"F.7D.059057\"});"
   ]
  },
  {
   "cell_type": "code",
   "execution_count": 4,
   "id": "546c01a0-40b9-4def-beee-3f3150576109",
   "metadata": {},
   "outputs": [
    {
     "data": {
      "text/plain": [
       "64 224 352 320 180 62 12"
      ]
     },
     "execution_count": 4,
     "metadata": {},
     "output_type": "execute_result"
    }
   ],
   "source": [
    "print $p7->F_VECTOR;"
   ]
  },
  {
   "cell_type": "code",
   "execution_count": 5,
   "id": "d79d4f89-6eac-4a31-974c-8f5c40af427a",
   "metadata": {},
   "outputs": [
    {
     "data": {
      "text/plain": [
       "true"
      ]
     },
     "execution_count": 5,
     "metadata": {},
     "output_type": "execute_result"
    },
    {
     "data": {
      "text/html": [
       "<details><summary><pre style=\"display:inline\"><small>Click here for additional output</small></pre></summary>\n",
       "<pre>\n",
       "polymake: used package nauty\n",
       "  Computation of automorphism groups of graphs.\n",
       "  Copyright by Brendan McKay and Adolfo Piperno.\n",
       "  http://pallini.di.uniroma1.it/\n",
       "</pre>\n",
       "</details>\n"
      ]
     },
     "metadata": {},
     "output_type": "display_data"
    }
   ],
   "source": [
    "print is_zero($p7->CENTROID->slice(range(1,$p7->DIM))) && !bs_symmetric($p7);"
   ]
  },
  {
   "cell_type": "markdown",
   "id": "6c872d1e-9bca-415d-a58e-69b30b8d6be5",
   "metadata": {},
   "source": [
    "The full check in dimension 7 can be done in the following form. The parameters limit/skip should successively adapted to cover the whole range of 72256 polytopes, or removed completely (this will take some time). "
   ]
  },
  {
   "cell_type": "code",
   "execution_count": 6,
   "id": "36a7d076-a917-4400-bdf7-3e63d360f2d5",
   "metadata": {},
   "outputs": [
    {
     "data": {
      "text/plain": [
       "F.7D.059057\n"
      ]
     },
     "execution_count": 6,
     "metadata": {},
     "output_type": "execute_result"
    }
   ],
   "source": [
    "$cur = $collection->find({\"DIM\"=>7},limit=>10, skip=>59050);\n",
    "while ($cur->has_next() ) { \n",
    "  my $p = $cur->next(); \n",
    "  if ( is_zero($p->CENTROID->slice(range(1,$p->DIM))) && !bs_symmetric($p) ) { \n",
    "    print $p->name, \"\\n\"; \n",
    "  }\n",
    "}"
   ]
  },
  {
   "cell_type": "markdown",
   "id": "cd6c036b-160d-4ff1-93a5-d5e655f16820",
   "metadata": {},
   "source": [
    "### The two only examples in dimension 8"
   ]
  },
  {
   "cell_type": "code",
   "execution_count": 7,
   "id": "4266fd91-4880-4d78-82e8-717ee07af083",
   "metadata": {},
   "outputs": [],
   "source": [
    "$p81 = $collection->find_one({\"_id\"=>\"F.8D.645848\"});\n",
    "$p82 = $collection->find_one({\"_id\"=>\"F.8D.657793\"});"
   ]
  },
  {
   "cell_type": "code",
   "execution_count": 8,
   "id": "c539e97b-9c8b-4ed6-9670-2706ba20e996",
   "metadata": {},
   "outputs": [
    {
     "data": {
      "text/plain": [
       "true"
      ]
     },
     "execution_count": 8,
     "metadata": {},
     "output_type": "execute_result"
    }
   ],
   "source": [
    "print is_zero($p81->CENTROID->slice(range(1,$p81->DIM))) && !bs_symmetric($p81);"
   ]
  },
  {
   "cell_type": "code",
   "execution_count": 9,
   "id": "0a576143-a0f5-4666-a913-1a9c4a69bf41",
   "metadata": {},
   "outputs": [
    {
     "data": {
      "text/plain": [
       "true"
      ]
     },
     "execution_count": 9,
     "metadata": {},
     "output_type": "execute_result"
    }
   ],
   "source": [
    "print is_zero($p82->CENTROID->slice(range(1,$p82->DIM))) && !bs_symmetric($p82);"
   ]
  },
  {
   "cell_type": "markdown",
   "id": "9c05ea3f-eb53-4570-9e1d-a00dc5a898c8",
   "metadata": {},
   "source": [
    "A full check can be done as in dimension 7, but take longer. "
   ]
  },
  {
   "cell_type": "code",
   "execution_count": null,
   "id": "02e39925-5088-4e61-af6e-fbef5803f5bb",
   "metadata": {},
   "outputs": [],
   "source": []
  }
 ],
 "metadata": {
  "kernelspec": {
   "display_name": "polymake-4.11",
   "language": "polymake",
   "name": "polymake"
  },
  "language_info": {
   "codemirror_mode": "perl",
   "file_extension": ".pl",
   "mimetype": "text/x-polymake",
   "name": "polymake"
  }
 },
 "nbformat": 4,
 "nbformat_minor": 5
}
