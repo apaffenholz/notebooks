{
 "cells": [
  {
   "cell_type": "markdown",
   "id": "8c8a99f1-0ead-4e2c-adc8-8f83d9678df3",
   "metadata": {},
   "source": [
    "## Polyhedral Adjunction"
   ]
  },
  {
   "cell_type": "markdown",
   "id": "4566c62b-3b05-49d6-8f36-7fb0f848ec50",
   "metadata": {},
   "source": [
    "For background on this example see arxiv:1105:2515.\n",
    "\n",
    "Sandra Di Rocco, Christian Haase, Benjamin Nill and Andreas Paffenholz, Polyhedral adjunction theory, Vol. 7 (2013), No. 10, 2417–2446 [[doi]](http://dx.doi.org/10.2140/ant.2013.7.2417)\n",
    "\n",
    "For a polytope $P$ defined by a reduced primitve system $Ax\\leq b$ the adjoint polytope at height $c$ is civen by the system $Ax+c1\\leq b$. For smooth polytopes $P$ in dimensions $2$ and $3$ with interior lattice points the adjoint at height $c=1$ is still a lattice polytope. This is false starting from dimension $4$. "
   ]
  },
  {
   "cell_type": "code",
   "execution_count": 1,
   "id": "c725b271-6977-4a8b-ba72-8e95e9be9962",
   "metadata": {},
   "outputs": [
    {
     "data": {
      "text/html": [
       "<details><summary><pre style=\"display:inline\"><small>Click here for additional output</small></pre></summary>\n",
       "<pre>\n",
       "polymake: used package PolyDB\n",
       "   Access to the polyDB database for combinatorial objects.\n",
       "   (c) 2013-2023 Andreas Paffenholz\n",
       "   http://www.mathematik.tu-darmstadt.de/~paffenholz\n",
       "\n",
       "</pre>\n",
       "</details>\n"
      ]
     },
     "metadata": {},
     "output_type": "display_data"
    }
   ],
   "source": [
    "$polydb = polyDB();\n",
    "$collection = $polydb->get_collection(\"_data.Polytopes.Lattice.VariousExamples\");"
   ]
  },
  {
   "cell_type": "code",
   "execution_count": 2,
   "id": "012ec4c0-8b2e-46ba-b842-26a564e07e74",
   "metadata": {},
   "outputs": [],
   "source": [
    "sub adjoint_polytope {\n",
    "  my ($p,$c) = @_;\n",
    "  my $facets = new Matrix<Rational>($p->FACETS);\n",
    "  $facets->col(0) -= $c * ones_vector<Rational>($p->N_FACETS);\n",
    "  my $q = new Polytope<Rational>(INEQUALITIES=>$facets);\n",
    "  return $q;\n",
    "}"
   ]
  },
  {
   "cell_type": "code",
   "execution_count": 3,
   "id": "5b717bb0-903d-4b30-bafa-51be168133ab",
   "metadata": {},
   "outputs": [
    {
     "data": {
      "text/plain": [
       "1 1 1 1 1\n",
       "1 1 1 2 1\n",
       "1 3/2 3/2 1 1\n",
       "1 1 2 1 1\n",
       "1 1 2 1 2\n"
      ]
     },
     "execution_count": 3,
     "metadata": {},
     "output_type": "execute_result"
    },
    {
     "data": {
      "text/html": [
       "<details><summary><pre style=\"display:inline\"><small>Click here for additional output</small></pre></summary>\n",
       "<pre>\n",
       "polymake:  WARNING: Compiling temporary shared module, please be patient...\n",
       "polymake: used package ppl\n",
       "  The Parma Polyhedra Library ([[wiki:external_software#PPL]]): A C++ library for convex polyhedra\n",
       "  and other numerical abstractions.\n",
       "  http://www.cs.unipr.it/ppl/\n",
       "\n",
       "</pre>\n",
       "</details>\n"
      ]
     },
     "metadata": {},
     "output_type": "display_data"
    }
   ],
   "source": [
    "$p=$collection->find_one({\"_id\"=>\"smooth_adjoint_dim_4\"});\n",
    "$q=adjoint_polytope($p,1);\n",
    "print $q->VERTICES;"
   ]
  },
  {
   "cell_type": "code",
   "execution_count": null,
   "id": "933084e4-a5bd-4dee-acbe-0f30da65aac7",
   "metadata": {},
   "outputs": [],
   "source": []
  }
 ],
 "metadata": {
  "kernelspec": {
   "display_name": "polymake-4.11",
   "language": "polymake",
   "name": "polymake"
  },
  "language_info": {
   "codemirror_mode": "perl",
   "file_extension": ".pl",
   "mimetype": "text/x-polymake",
   "name": "polymake"
  }
 },
 "nbformat": 4,
 "nbformat_minor": 5
}
