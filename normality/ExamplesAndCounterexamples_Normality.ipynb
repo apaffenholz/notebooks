{
 "cells": [
  {
   "cell_type": "markdown",
   "id": "eb4d456d-c57f-4142-9b59-89cd1b553f8b",
   "metadata": {},
   "source": [
    "# Examples an Counterexamples around Normality of Lattice Polytopes"
   ]
  },
  {
   "cell_type": "code",
   "execution_count": 1,
   "id": "5b377b6c-685a-4ae3-a9ac-82d3fc172b28",
   "metadata": {},
   "outputs": [
    {
     "data": {
      "text/plain": [
       "9"
      ]
     },
     "execution_count": 1,
     "metadata": {},
     "output_type": "execute_result"
    },
    {
     "data": {
      "text/html": [
       "<details><summary><pre style=\"display:inline\"><small>Click here for additional output</small></pre></summary>\n",
       "<pre>\n",
       "polymake: used package PolyDB\n",
       "   Access to the polyDB database for combinatorial objects.\n",
       "   (c) 2013-2023 Andreas Paffenholz\n",
       "   http://www.mathematik.tu-darmstadt.de/~paffenholz\n",
       "\n",
       "</pre>\n",
       "</details>\n"
      ]
     },
     "metadata": {},
     "output_type": "display_data"
    }
   ],
   "source": [
    "$polydb = polyDB();\n",
    "$collection = $polydb->get_collection(\"_data.Polytopes.Lattice.VariousExamples\");\n",
    "print $collection->count({});"
   ]
  },
  {
   "cell_type": "markdown",
   "id": "ab6ffabb-6614-4b70-a1dc-518ec8d6fb1c",
   "metadata": {},
   "source": [
    "## A normal polytope without a regular unimodular triangulation"
   ]
  },
  {
   "cell_type": "markdown",
   "id": "5a816a39-b219-4141-90e4-cb87cb98b91f",
   "metadata": {},
   "source": [
    "This example eappeared in the paper \n",
    "Ohsugi and Hibi, \n",
    "\"A Normal (0, 1)-Polytope None of Whose Regular Triangulations Is Unimodular\",  \n",
    "Discrete Comput Geom 21:201–204 (1999)\n",
    "[[doi]](http://dx.doi.org/10.1007/PL00009415)"
   ]
  },
  {
   "cell_type": "code",
   "execution_count": 3,
   "id": "4adab81d-ed02-44bf-81d6-252d7f357ae7",
   "metadata": {},
   "outputs": [],
   "source": [
    "$p=$collection->find_one({\"_id\" => \"ex.0001\"});"
   ]
  },
  {
   "cell_type": "code",
   "execution_count": 4,
   "id": "f629b63b-a793-459e-8913-ec7efecc163b",
   "metadata": {},
   "outputs": [
    {
     "data": {
      "text/plain": [
       "1 1 1 0 0 0 0 0 0 0 0\n",
       "1 1 0 1 0 0 0 0 0 0 0\n",
       "1 1 0 0 0 0 0 0 0 1 0\n",
       "1 1 0 0 0 0 0 0 0 0 1\n",
       "1 0 1 1 0 0 0 0 0 0 0\n",
       "1 0 0 1 1 0 0 0 0 0 0\n",
       "1 0 0 1 0 1 0 0 0 0 0\n",
       "1 0 0 0 1 1 0 0 0 0 0\n",
       "1 0 0 0 0 1 1 0 0 0 0\n",
       "1 0 0 0 0 1 0 1 0 0 0\n",
       "1 0 0 0 0 0 1 1 0 0 0\n",
       "1 0 0 0 0 0 0 1 1 0 0\n",
       "1 0 0 0 0 0 0 1 0 1 0\n",
       "1 0 0 0 0 0 0 0 1 1 0\n",
       "1 0 0 0 0 0 0 0 0 1 1\n"
      ]
     },
     "execution_count": 4,
     "metadata": {},
     "output_type": "execute_result"
    }
   ],
   "source": [
    "print $p->VERTICES;"
   ]
  },
  {
   "cell_type": "markdown",
   "id": "fa889440-2b06-45c3-b900-a49a280e5cec",
   "metadata": {},
   "source": [
    "The lattice spanned by the vertices of this polytope does not coincide with the integer lattice, so we need to normalize:"
   ]
  },
  {
   "cell_type": "code",
   "execution_count": 5,
   "id": "3eec73bc-fb42-46ba-b8d4-6ce78bed9bbb",
   "metadata": {},
   "outputs": [],
   "source": [
    "$p_normalized = vertex_lattice_normalization($p);"
   ]
  },
  {
   "cell_type": "markdown",
   "id": "1614b397-6c1b-48a3-8cd3-b43e0edd2df4",
   "metadata": {},
   "source": [
    "It is normal."
   ]
  },
  {
   "cell_type": "code",
   "execution_count": 6,
   "id": "ae3cd57b-c55d-4dee-9b5c-8de9b514e1d9",
   "metadata": {},
   "outputs": [
    {
     "data": {
      "text/plain": [
       "true"
      ]
     },
     "execution_count": 6,
     "metadata": {},
     "output_type": "execute_result"
    },
    {
     "data": {
      "text/html": [
       "<details><summary><pre style=\"display:inline\"><small>Click here for additional output</small></pre></summary>\n",
       "<pre>\n",
       "polymake: used package 4ti2\n",
       "  4ti2 -- A software package for algebraic, geometric and combinatorial problems on linear spaces.\n",
       "  Copyright by 4ti2 team.\n",
       "  http://www.4ti2.de/\n",
       "\n",
       "</pre>\n",
       "</details>\n"
      ]
     },
     "metadata": {},
     "output_type": "display_data"
    }
   ],
   "source": [
    "print $p_normalized->NORMAL;"
   ]
  },
  {
   "cell_type": "markdown",
   "id": "ea0787b3-f7be-448a-9625-647a2b3ae9c5",
   "metadata": {},
   "source": [
    "We can compute all regular triangulations."
   ]
  },
  {
   "cell_type": "code",
   "execution_count": 7,
   "id": "d5e0e122-78be-4a76-a92b-369ee0833752",
   "metadata": {},
   "outputs": [
    {
     "data": {
      "text/html": [
       "<details><summary><pre style=\"display:inline\"><small>Click here for additional output</small></pre></summary>\n",
       "<pre>\n",
       "polymake: used package topcom\n",
       "  TOPCOM is a package for computing Triangulations Of Point Configurations and Oriented Matroids.\n",
       "  Copyright by Jörg Rambau.\n",
       "  http://www.rambau.wm.uni-bayreuth.de/TOPCOM/\n",
       "\n",
       "</pre>\n",
       "</details>\n"
      ]
     },
     "metadata": {},
     "output_type": "display_data"
    }
   ],
   "source": [
    "$reg = topcom_regular_triangulations($p_normalized);"
   ]
  },
  {
   "cell_type": "markdown",
   "id": "e4e39773-1fee-4791-b58f-cc121183b2d1",
   "metadata": {},
   "source": [
    "We have 10470 regular triangulations."
   ]
  },
  {
   "cell_type": "code",
   "execution_count": 8,
   "id": "80821ba1-f3ba-4c5b-a26f-02b37f07a357",
   "metadata": {},
   "outputs": [
    {
     "data": {
      "text/plain": [
       "10470"
      ]
     },
     "execution_count": 8,
     "metadata": {},
     "output_type": "execute_result"
    }
   ],
   "source": [
    "print scalar(@$reg);"
   ]
  },
  {
   "cell_type": "markdown",
   "id": "41fd257b-9d56-4dc8-82b7-f9441123a9a2",
   "metadata": {},
   "source": [
    "We run over the full list of regular triangulations and check for each whether it is unimodular."
   ]
  },
  {
   "cell_type": "code",
   "execution_count": 9,
   "id": "0d8f9b05-5dd3-45c3-b366-7af45c7b917f",
   "metadata": {
    "scrolled": true
   },
   "outputs": [
    {
     "data": {
      "text/html": [
       "<details><summary><pre style=\"display:inline\"><small>Click here for additional output</small></pre></summary>\n",
       "<pre>\n",
       "polymake:  WARNING: Compiling temporary shared module, please be patient...\n",
       "</pre>\n",
       "</details>\n"
      ]
     },
     "metadata": {},
     "output_type": "display_data"
    }
   ],
   "source": [
    "for my $t (@$reg) { \n",
    "  my $unimod = 1; \n",
    "  for my $s (@$t) { \n",
    "    my $sp = $p_normalized->VERTICES->minor($s,All); \n",
    "    if ( abs(det($sp)) != 1 ) { \n",
    "      $unimod = 0; last; \n",
    "    } \n",
    "  } \n",
    "  if ( $unimod) { \n",
    "    print \"Triangulation : \", $t, \" is unimodular\\n\"; \n",
    "  }\n",
    "}"
   ]
  },
  {
   "cell_type": "markdown",
   "id": "bff77852-bca8-4da0-83a4-7071a3981a30",
   "metadata": {},
   "source": [
    "As no triangulation has been printed, no regular triangulation is unimodular."
   ]
  },
  {
   "cell_type": "markdown",
   "id": "b784f40e-3e72-484c-bf7f-e58c490eac71",
   "metadata": {},
   "source": [
    "## A counterexample to the integer Caratheodory property"
   ]
  },
  {
   "cell_type": "markdown",
   "id": "5cac95fb-c3e9-44b9-8c3e-963eea03efe0",
   "metadata": {},
   "source": [
    "This example appeared in\n",
    "\n",
    "Bruns, Winfried; Gubeladze, Joseph; Henk, Martin; Martin, Alexander; Weismantel, Robert, \n",
    "\"A counterexample to an integer analogue of Carathéodory's theorem\", \n",
    "Journal für die reine und angewandte Mathematik, 1999 (510): pp 179–185, [[doi]](http://doi.org/10.1515/crll.1999.045)"
   ]
  },
  {
   "cell_type": "code",
   "execution_count": 15,
   "id": "9ece561d-4e07-4271-94ed-829d45636d7f",
   "metadata": {},
   "outputs": [],
   "source": [
    "$p=$collection->find_one({\"_id\" => \"ex.0002\"});"
   ]
  },
  {
   "cell_type": "code",
   "execution_count": 16,
   "id": "146d5c79-2cd0-41a4-baa4-b4f4f665ee4e",
   "metadata": {},
   "outputs": [
    {
     "data": {
      "text/plain": [
       "1 0 1 1 1 1\n",
       "1 0 0 1 1 1\n",
       "1 0 0 0 1 1\n",
       "1 0 0 0 0 1\n",
       "1 0 0 0 0 0\n",
       "1 1 -1 0 0 0\n",
       "1 1 1 0 1 1\n",
       "1 1 0 1 0 1\n",
       "1 1 0 0 1 0\n",
       "1 1 1 1 1 2\n"
      ]
     },
     "execution_count": 16,
     "metadata": {},
     "output_type": "execute_result"
    }
   ],
   "source": [
    "print $p->VERTICES;"
   ]
  },
  {
   "cell_type": "markdown",
   "id": "0bb38d0a-aba5-487a-a7bb-0924297b77a3",
   "metadata": {},
   "source": [
    "We consider the vector"
   ]
  },
  {
   "cell_type": "code",
   "execution_count": 24,
   "id": "81baabdc-c00a-4d6a-9f21-c3a2b9c77807",
   "metadata": {},
   "outputs": [],
   "source": [
    "$v=new Vector([20,9,4,8,12,16]);"
   ]
  },
  {
   "cell_type": "markdown",
   "id": "ce277371-1eb4-4cae-898f-325dfb23bb3e",
   "metadata": {},
   "source": [
    "It is inside the cone over the polytope:"
   ]
  },
  {
   "cell_type": "code",
   "execution_count": 26,
   "id": "14cc94bc-60a1-4649-a09b-d114e5ad889d",
   "metadata": {},
   "outputs": [
    {
     "data": {
      "text/plain": [
       "8 8 8 13 8 13 17 9 13 8 17 19 19 17 13 15 11 17 15 15 19 15 19 13 17 19 15"
      ]
     },
     "execution_count": 26,
     "metadata": {},
     "output_type": "execute_result"
    }
   ],
   "source": [
    "print $p->FACETS * $v;"
   ]
  },
  {
   "cell_type": "markdown",
   "id": "016e2085-e654-4098-9c0f-6e181806a95d",
   "metadata": {},
   "source": [
    "We compute the coefficients of this point for all simplicial cones formed by the vertices of the polytope that contain this point:"
   ]
  },
  {
   "cell_type": "code",
   "execution_count": 28,
   "id": "be95eb02-ce44-41c3-9ed0-4e9f4e9841ee",
   "metadata": {},
   "outputs": [
    {
     "data": {
      "text/plain": [
       "{0 1 3 5 6 7}: 7/2 4 7/2 4 9/2 1/2\n",
       "{0 1 3 5 6 9}: 4 7/2 7/2 9/2 4 1/2\n",
       "{0 1 3 5 8 9}: 4 3/2 11/2 5/2 4 5/2\n",
       "{0 1 3 6 7 8}: 3/2 4 11/2 5/2 5/2 4\n",
       "{0 1 3 7 8 9}: 7/3 7/3 19/3 5/3 17/3 5/3\n",
       "{0 2 3 5 6 7}: 11/2 4 3/2 4 5/2 5/2\n",
       "{0 2 3 5 6 9}: 19/3 7/3 7/3 17/3 5/3 5/3\n",
       "{0 2 3 5 8 9}: 11/2 3/2 4 4 5/2 5/2\n",
       "{0 2 3 6 7 8}: 7/2 4 7/2 1/2 9/2 4\n",
       "{0 2 3 7 8 9}: 7/2 7/2 4 4 9/2 1/2\n",
       "{0 2 4 5 6 7}: 4 11/2 3/2 5/2 5/2 4\n",
       "{0 2 4 5 6 9}: 4 7/2 7/2 9/2 1/2 4\n",
       "{0 2 4 5 8 9}: 7/2 7/2 4 4 1/2 9/2\n",
       "{0 2 4 6 7 8}: 7/3 19/3 7/3 5/3 17/3 5/3\n",
       "{0 2 4 7 8 9}: 3/2 11/2 4 4 5/2 5/2\n",
       "{1 2 4 5 6 7}: 4 7/2 7/2 1/2 9/2 4\n",
       "{1 2 4 5 6 9}: 4 3/2 11/2 5/2 5/2 4\n",
       "{1 2 4 5 8 9}: 7/3 7/3 19/3 5/3 5/3 17/3\n",
       "{1 2 4 6 7 8}: 7/2 4 7/2 4 9/2 1/2\n",
       "{1 2 4 7 8 9}: 3/2 4 11/2 5/2 5/2 4\n",
       "{1 3 4 5 6 7}: 19/3 7/3 7/3 5/3 17/3 5/3\n",
       "{1 3 4 5 6 9}: 11/2 3/2 4 5/2 4 5/2\n",
       "{1 3 4 5 8 9}: 7/2 7/2 4 1/2 4 9/2\n",
       "{1 3 4 6 7 8}: 11/2 4 3/2 4 5/2 5/2\n",
       "{1 3 4 7 8 9}: 7/2 4 7/2 1/2 9/2 4\n"
      ]
     },
     "execution_count": 28,
     "metadata": {},
     "output_type": "execute_result"
    }
   ],
   "source": [
    "for (@{all_subsets_of_k(range(0,$p->N_VERTICES-1),6)}) { \n",
    "  $mat = $p->VERTICES->minor($_,All); \n",
    "  if ( det($mat) != 0 ) { \n",
    "    $inv_mat = inv($mat); \n",
    "    $coeff = $w*$inv_mat; \n",
    "    if ( is_nonnegative($coeff) ) { \n",
    "      print $_, \": \", $coeff, \"\\n\"; \n",
    "    } \n",
    "  }\n",
    "}"
   ]
  },
  {
   "cell_type": "markdown",
   "id": "a43148c3-02f6-47b6-b763-0f6ec38bc201",
   "metadata": {},
   "source": [
    "No row has only integer entries. Hence, the point cannot be generated with just six generators and integer coefficients."
   ]
  },
  {
   "cell_type": "markdown",
   "id": "00c59cdf-8340-4918-9e68-d6b89e47deb3",
   "metadata": {},
   "source": [
    "## A very ample, buth neither smooth nor normal polytope"
   ]
  },
  {
   "cell_type": "markdown",
   "id": "8f439248-44bf-4d40-94dc-1e04e634ac5e",
   "metadata": {},
   "source": [
    "This example was found by Winfried Bruns (personal communication)"
   ]
  },
  {
   "cell_type": "code",
   "execution_count": 29,
   "id": "5bc84fc4-dd09-48ab-ae25-a38902ed3b92",
   "metadata": {},
   "outputs": [],
   "source": [
    "$p=$collection->find_one({\"_id\" => \"ex.0003\"});"
   ]
  },
  {
   "cell_type": "code",
   "execution_count": 31,
   "id": "427855b3-9a32-45dc-bb9b-fa7cd5bf48c0",
   "metadata": {},
   "outputs": [
    {
     "data": {
      "text/plain": [
       "1 1 1 0\n",
       "1 1 1 1\n",
       "1 0 1 0\n",
       "1 0 1 1\n",
       "1 1 0 0\n",
       "1 1 0 1\n",
       "1 0 0 8\n",
       "1 0 0 7\n"
      ]
     },
     "execution_count": 31,
     "metadata": {},
     "output_type": "execute_result"
    }
   ],
   "source": [
    "print $p->VERTICES;"
   ]
  },
  {
   "cell_type": "code",
   "execution_count": 32,
   "id": "4ac03fb9-1af6-4256-9b16-461297922b13",
   "metadata": {},
   "outputs": [
    {
     "data": {
      "text/plain": [
       "true"
      ]
     },
     "execution_count": 32,
     "metadata": {},
     "output_type": "execute_result"
    }
   ],
   "source": [
    "print $p->VERY_AMPLE;"
   ]
  },
  {
   "cell_type": "code",
   "execution_count": 33,
   "id": "4e56b4ce-842f-410c-b3fe-aa6a91f27f7b",
   "metadata": {},
   "outputs": [
    {
     "data": {
      "text/plain": [
       "false"
      ]
     },
     "execution_count": 33,
     "metadata": {},
     "output_type": "execute_result"
    }
   ],
   "source": [
    "print $p->NORMAL;"
   ]
  },
  {
   "cell_type": "code",
   "execution_count": 34,
   "id": "a3295262-e7de-4643-97a1-d32bcea9b3d7",
   "metadata": {},
   "outputs": [
    {
     "data": {
      "text/plain": [
       "false"
      ]
     },
     "execution_count": 34,
     "metadata": {},
     "output_type": "execute_result"
    }
   ],
   "source": [
    "print $p->SMOOTH;"
   ]
  },
  {
   "cell_type": "markdown",
   "id": "c9565531-6bc5-4fd5-8d18-17c92a8226da",
   "metadata": {},
   "source": [
    "## Nonnormal Polytopes defined by the root system F4"
   ]
  },
  {
   "cell_type": "markdown",
   "id": "20c1a382-728a-446d-9f29-a443cf9eec5a",
   "metadata": {},
   "source": [
    "Here are six lattice polytopes defined by the root system $F_4$ that are not normal. "
   ]
  },
  {
   "cell_type": "markdown",
   "id": "11721de8-1bb1-4f19-922f-4b7e82b2a626",
   "metadata": {},
   "source": [
    "For background see Section 3.1.4 in:\n",
    "\n",
    "Christian Haase, Andreas Paffenholz, Lindsey C. Piechnik and Francisco Santos, \n",
    "Existence of unimodular triangulations — positive results, \n",
    "Memoirs of the American Mathematical Society,  2021; Volume 270, Number 1321\n",
    "[[doi]](https://doi.org/10.1090/memo/1321)"
   ]
  },
  {
   "cell_type": "code",
   "execution_count": 40,
   "id": "027b80bb-ed06-4f1d-af71-0a777a080fec",
   "metadata": {},
   "outputs": [],
   "source": [
    "$p1=$collection->find_one({\"_id\" => \"f4-non-normal-01\"});"
   ]
  },
  {
   "cell_type": "code",
   "execution_count": 51,
   "id": "0c3808de-7055-4172-bddc-efe25c60d4a4",
   "metadata": {},
   "outputs": [
    {
     "data": {
      "text/plain": [
       "2 0 0 -1 1\n",
       "0 0 1 0 -1\n",
       "0 -1 0 1 0\n",
       "0 1 -1 0 0\n",
       "2 1 0 0 1\n",
       "1 0 -1 0 0\n"
      ]
     },
     "execution_count": 51,
     "metadata": {},
     "output_type": "execute_result"
    }
   ],
   "source": [
    "print $p1->FACETS;"
   ]
  },
  {
   "cell_type": "markdown",
   "id": "09426c8d-5a04-4ce5-9267-91debf4c0e59",
   "metadata": {},
   "source": [
    "$F_4$ is the subgroup of $\\mathbb{Z}^4$ where in each vector the sum of the coordinates is even. We can see that this is true for the above set of facet normals.\n",
    "\n",
    "We have to change the polytope as we want to operate in $F_4^*$ (as space for the vertices), but polymake computes in $\\mathbb{Z}^4$. The following matrix gives the transformation."
   ]
  },
  {
   "cell_type": "code",
   "execution_count": 52,
   "id": "628f04c6-06ba-4b8a-96a7-05e5c0fd6f36",
   "metadata": {},
   "outputs": [],
   "source": [
    "$t = new Matrix<Rational>([[1,0,0,0,0],[0,2,0,0,0],[0,1,1,0,0],[0,1,0,1,0],[0,1,0,0,1]]);"
   ]
  },
  {
   "cell_type": "code",
   "execution_count": 53,
   "id": "bf5adaaf-202d-44cb-bf72-53dd2261bbd5",
   "metadata": {},
   "outputs": [],
   "source": [
    "$p1_f4 = new Polytope(POINTS=>$p1->VERTICES*inv($t));"
   ]
  },
  {
   "cell_type": "code",
   "execution_count": 54,
   "id": "976f6ab8-759d-4c8a-847a-aee46b071e8f",
   "metadata": {},
   "outputs": [
    {
     "data": {
      "text/plain": [
       "2 0 0 -1 1\n",
       "0 -2 -1 0 -1\n",
       "0 0 1 0 -1\n",
       "0 2 0 1 1\n",
       "1 0 -1 0 0\n",
       "2 2 1 1 2\n"
      ]
     },
     "execution_count": 54,
     "metadata": {},
     "output_type": "execute_result"
    }
   ],
   "source": [
    "print $p1_f4->FACETS;"
   ]
  },
  {
   "cell_type": "code",
   "execution_count": 55,
   "id": "15b106c3-0d8e-4deb-b660-b901e5c20a10",
   "metadata": {},
   "outputs": [
    {
     "data": {
      "text/plain": [
       "false"
      ]
     },
     "execution_count": 55,
     "metadata": {},
     "output_type": "execute_result"
    }
   ],
   "source": [
    "print $p1_f4->NORMAL;"
   ]
  },
  {
   "cell_type": "markdown",
   "id": "1d991a91-7b8a-48a2-8f47-e8d6c7697b49",
   "metadata": {},
   "source": [
    "For the other five:"
   ]
  },
  {
   "cell_type": "code",
   "execution_count": 56,
   "id": "77ac8720-ceba-499e-bf03-d29967b5ddb8",
   "metadata": {},
   "outputs": [],
   "source": [
    "$p2=$collection->find_one({\"_id\" => \"f4-non-normal-02\"});\n",
    "$p3=$collection->find_one({\"_id\" => \"f4-non-normal-03\"});\n",
    "$p4=$collection->find_one({\"_id\" => \"f4-non-normal-04\"});\n",
    "$p5=$collection->find_one({\"_id\" => \"f4-non-normal-05\"});\n",
    "$p6=$collection->find_one({\"_id\" => \"f4-non-normal-06\"});"
   ]
  },
  {
   "cell_type": "code",
   "execution_count": 59,
   "id": "b01b233c-f515-4e51-ac9e-787c690b216c",
   "metadata": {},
   "outputs": [
    {
     "data": {
      "text/plain": [
       "0 0 0 1 -1\n",
       "2 -1 -1 -1 1\n",
       "0 -1 1 0 0\n",
       "1 0 -1 0 0\n",
       "1 0 1 1 0\n",
       "4 0 0 1 1\n",
       "0 1 1 0 0\n",
       "0 0 -1 -1 0\n",
       "------\n",
       "0 -1 0 1 0\n",
       "1 0 0 -1 -1\n",
       "0 -1 -1 -1 -1\n",
       "3 -1 0 0 1\n",
       "6 1 0 1 0\n",
       "1 1 0 0 1\n",
       "6 1 -1 -1 -1\n",
       "3 0 1 1 0\n",
       "6 0 1 0 1\n",
       "------\n",
       "4 -1 -1 1 -1\n",
       "8 0 -1 0 1\n",
       "0 -1 1 -1 1\n",
       "0 0 0 -1 -1\n",
       "0 0 1 0 1\n",
       "0 1 1 1 -1\n",
       "0 -1 1 0 0\n",
       "8 1 0 0 1\n",
       "2 1 0 1 0\n",
       "6 0 -1 0 0\n",
       "------\n",
       "0 0 0 -1 -1\n",
       "0 0 1 0 1\n",
       "4 -1 -1 1 -1\n",
       "0 1 -1 0 0\n",
       "2 1 0 0 -1\n",
       "4 0 0 1 -1\n",
       "0 0 -1 0 1\n",
       "------\n",
       "0 1 0 1 0\n",
       "2 1 0 -1 0\n",
       "0 0 1 0 -1\n",
       "0 -1 0 0 1\n",
       "0 0 -1 0 -1\n",
       "------\n"
      ]
     },
     "execution_count": 59,
     "metadata": {},
     "output_type": "execute_result"
    }
   ],
   "source": [
    "print $p2->FACETS, \"------\\n\";\n",
    "print $p3->FACETS, \"------\\n\";\n",
    "print $p4->FACETS, \"------\\n\";\n",
    "print $p5->FACETS, \"------\\n\";\n",
    "print $p6->FACETS, \"------\\n\";"
   ]
  },
  {
   "cell_type": "code",
   "execution_count": 57,
   "id": "c517630b-5004-4698-a364-72a73e79de1f",
   "metadata": {},
   "outputs": [],
   "source": [
    "$p2_f4 = new Polytope(POINTS=>$p2->VERTICES*inv($t));\n",
    "$p3_f4 = new Polytope(POINTS=>$p3->VERTICES*inv($t));\n",
    "$p4_f4 = new Polytope(POINTS=>$p4->VERTICES*inv($t));\n",
    "$p5_f4 = new Polytope(POINTS=>$p5->VERTICES*inv($t));\n",
    "$p6_f4 = new Polytope(POINTS=>$p6->VERTICES*inv($t));"
   ]
  },
  {
   "cell_type": "code",
   "execution_count": 49,
   "id": "ee9c1df9-b560-4fbe-9087-f304ed5b1593",
   "metadata": {},
   "outputs": [
    {
     "data": {
      "text/plain": [
       "false false false false false "
      ]
     },
     "execution_count": 49,
     "metadata": {},
     "output_type": "execute_result"
    }
   ],
   "source": [
    "print $p2_f4->NORMAL, \" \";\n",
    "print $p3_f4->NORMAL, \" \";\n",
    "print $p4_f4->NORMAL, \" \";\n",
    "print $p5_f4->NORMAL, \" \";\n",
    "print $p6_f4->NORMAL, \" \";"
   ]
  },
  {
   "cell_type": "code",
   "execution_count": null,
   "id": "94323b85-1656-4c5f-8d82-ee183cd8452c",
   "metadata": {},
   "outputs": [],
   "source": []
  }
 ],
 "metadata": {
  "kernelspec": {
   "display_name": "polymake-4.11",
   "language": "polymake",
   "name": "polymake"
  },
  "language_info": {
   "codemirror_mode": "perl",
   "file_extension": ".pl",
   "mimetype": "text/x-polymake",
   "name": "polymake"
  }
 },
 "nbformat": 4,
 "nbformat_minor": 5
}
